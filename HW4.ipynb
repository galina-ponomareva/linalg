{
 "cells": [
  {
   "cell_type": "markdown",
   "metadata": {},
   "source": [
    "__1.__ Вычислить определитель:\n",
    "\n",
    "   a)\n",
    "\n",
    "$$\\begin{vmatrix}\n",
    "sinx & -cosx\\\\ \n",
    "cosx & sinx\n",
    "\\end{vmatrix};$$\n",
    "\n",
    "   б)\n",
    "    \n",
    "$$\\begin{vmatrix}\n",
    "4 & 2 & 3\\\\ \n",
    "0 & 5 & 1\\\\ \n",
    "0 & 0 & 9\n",
    "\\end{vmatrix};$$\n",
    "    \n",
    "   в)\n",
    "\n",
    "$$\\begin{vmatrix}\n",
    "1 & 2 & 3\\\\ \n",
    "4 & 5 & 6\\\\ \n",
    "7 & 8 & 9\n",
    "\\end{vmatrix}.$$"
   ]
  },
  {
   "cell_type": "markdown",
   "metadata": {},
   "source": [
    "a) $$\\begin{vmatrix}\n",
    "\\sin x & -\\cos x\\\\ \n",
    "\\cos x & \\sin x\n",
    "\\end{vmatrix} = \\sin x \\cdot \\sin x - (-\\cos x) \\cdot \\cos x = \\sin^2 x + \\cos^2 x = 1$$\n",
    "\n",
    "б) $$\\begin{vmatrix}\n",
    "4 & 2 & 3\\\\ \n",
    "0 & 5 & 1\\\\ \n",
    "0 & 0 & 9\n",
    "\\end{vmatrix} = 4\\begin{vmatrix}\n",
    "5 & 1\\\\ \n",
    "0 & 9\n",
    "\\end{vmatrix} - 2\\begin{vmatrix}\n",
    "0 & 1\\\\ \n",
    "0 & 9\n",
    "\\end{vmatrix} + 3\\begin{vmatrix}\n",
    "0 & 5\\\\ \n",
    "0 & 0\n",
    "\\end{vmatrix} = 4\\cdot45 - 2\\cdot0 + 3\\cdot0 = 180$$\n",
    "\n",
    "в) Заметим, что третья строка матрицы является линейной комбинацией первых двух, а именно $a_{3j} = 2a_{2j}-a_{1j}$. Поэтому\n",
    "\n",
    "$$\\begin{vmatrix}\n",
    "1 & 2 & 3\\\\ \n",
    "4 & 5 & 6\\\\ \n",
    "7 & 8 & 9\n",
    "\\end{vmatrix} = 0$$"
   ]
  },
  {
   "cell_type": "code",
   "execution_count": 1,
   "metadata": {},
   "outputs": [],
   "source": [
    "import numpy as np"
   ]
  },
  {
   "cell_type": "code",
   "execution_count": 6,
   "metadata": {},
   "outputs": [
    {
     "name": "stdout",
     "output_type": "stream",
     "text": [
      "Матрица:\n",
      "[[ 0.47942554 -0.87758256]\n",
      " [ 0.87758256  0.47942554]]\n",
      "Определитель:\n",
      "1\n"
     ]
    }
   ],
   "source": [
    "a = np.array([[np.sin(0.5), -np.cos(0.5)], [np.cos(0.5), np.sin(0.5)]])\n",
    "print(f'Матрица:\\n{a}')\n",
    "print(f'Определитель:\\n{np.linalg.det(a):.0f}')"
   ]
  },
  {
   "cell_type": "code",
   "execution_count": 7,
   "metadata": {},
   "outputs": [
    {
     "name": "stdout",
     "output_type": "stream",
     "text": [
      "Матрица:\n",
      "[[4 2 3]\n",
      " [0 5 1]\n",
      " [0 0 9]]\n",
      "Определитель:\n",
      "180\n"
     ]
    }
   ],
   "source": [
    "b = np.array([[4, 2, 3], [0, 5, 1], [0, 0, 9]])\n",
    "print(f'Матрица:\\n{b}')\n",
    "print(f'Определитель:\\n{np.linalg.det(b):.0f}')"
   ]
  },
  {
   "cell_type": "code",
   "execution_count": 8,
   "metadata": {},
   "outputs": [
    {
     "name": "stdout",
     "output_type": "stream",
     "text": [
      "Матрица:\n",
      "[[1 2 3]\n",
      " [4 5 6]\n",
      " [7 8 9]]\n",
      "Определитель:\n",
      "0\n"
     ]
    }
   ],
   "source": [
    "c = np.array([[1, 2, 3], [4, 5, 6], [7, 8, 9]])\n",
    "print(f'Матрица:\\n{c}')\n",
    "print(f'Определитель:\\n{np.linalg.det(c):.0f}')"
   ]
  },
  {
   "cell_type": "markdown",
   "metadata": {},
   "source": [
    "__2.__ Определитель матрицы $A$ равен $4$. Найти:\n",
    "\n",
    "   а) $det(A^{2})$;\n",
    "    \n",
    "   б) $det(A^{T})$;\n",
    "    \n",
    "   в) $det(2A)$."
   ]
  },
  {
   "cell_type": "markdown",
   "metadata": {},
   "source": [
    "а) $det(A^{2}) = det(A\\cdot A) = detA \\cdot detA = 4\\cdot4 = 16$\n",
    "\n",
    "б) $det(A^{T}) = detA = 4$\n",
    "\n",
    "в) $det(2A) = 2^n \\cdot detA = 2^n\\cdot4$, где $n$ - порядок матрицы $A$."
   ]
  },
  {
   "cell_type": "code",
   "execution_count": 14,
   "metadata": {},
   "outputs": [
    {
     "name": "stdout",
     "output_type": "stream",
     "text": [
      "Матрица:\n",
      "[[ 2 -1]\n",
      " [ 0  2]]\n",
      "Определитель:\n",
      "4\n",
      "Матрица:\n",
      "[[ 4 -4]\n",
      " [ 0  4]]\n",
      "Определитель:\n",
      "16\n",
      "Матрица:\n",
      "[[ 2  0]\n",
      " [-1  2]]\n",
      "Определитель:\n",
      "4\n",
      "Матрица:\n",
      "[[ 4 -2]\n",
      " [ 0  4]]\n",
      "Определитель:\n",
      "16\n",
      "Матрица:\n",
      "[[ 2 -1  0]\n",
      " [ 0  2  1]\n",
      " [ 0  0  1]]\n",
      "Определитель:\n",
      "4\n",
      "Матрица:\n",
      "[[ 4 -2  0]\n",
      " [ 0  4  2]\n",
      " [ 0  0  2]]\n",
      "Определитель:\n",
      "32\n"
     ]
    }
   ],
   "source": [
    "A = np.array([[2, -1], [0, 2]])\n",
    "print(f'Матрица:\\n{A}')\n",
    "print(f'Определитель:\\n{np.linalg.det(A):.0f}')\n",
    "\n",
    "A_2 = np.dot(A, A)\n",
    "print(f'Матрица:\\n{A_2}')\n",
    "print(f'Определитель:\\n{np.linalg.det(A_2):.0f}')\n",
    "\n",
    "AT = A.T\n",
    "print(f'Матрица:\\n{AT}')\n",
    "print(f'Определитель:\\n{np.linalg.det(AT):.0f}')\n",
    "\n",
    "A2 = 2 * A\n",
    "print(f'Матрица:\\n{A2}')\n",
    "print(f'Определитель:\\n{np.linalg.det(A2):.0f}')\n",
    "\n",
    "A = np.array([[2, -1, 0], [0, 2, 1], [0, 0, 1]])\n",
    "print(f'Матрица:\\n{A}')\n",
    "print(f'Определитель:\\n{np.linalg.det(A):.0f}')\n",
    "\n",
    "A2 = 2 * A\n",
    "print(f'Матрица:\\n{A2}')\n",
    "print(f'Определитель:\\n{np.linalg.det(A2):.0f}')"
   ]
  },
  {
   "cell_type": "markdown",
   "metadata": {},
   "source": [
    "__3.__  Доказать, что матрица\n",
    "\n",
    "$$\\begin{pmatrix}\n",
    "-2 & 7 & -3\\\\ \n",
    "4 & -14 & 6\\\\ \n",
    "-3 & 7 & 13\n",
    "\\end{pmatrix}$$\n",
    "   \n",
    "вырожденная."
   ]
  },
  {
   "cell_type": "markdown",
   "metadata": {},
   "source": [
    "$$\\begin{vmatrix}\n",
    "-2 & 7 & -3\\\\ \n",
    "4 & -14 & 6\\\\ \n",
    "-3 & 7 & 13\n",
    "\\end{vmatrix} = -2\\cdot\\begin{vmatrix}\n",
    "-2 & 7 & -3\\\\ \n",
    "-2 & 7 & -3\\\\ \n",
    "-3 & 7 & 13\n",
    "\\end{vmatrix} = -2\\cdot0 = 0$$\n",
    "\n",
    "Так как определитель матрицы, у которой две строки равны между собой, равен $0$."
   ]
  },
  {
   "cell_type": "code",
   "execution_count": 15,
   "metadata": {},
   "outputs": [
    {
     "name": "stdout",
     "output_type": "stream",
     "text": [
      "Матрица:\n",
      "[[ -2   7  -3]\n",
      " [  4 -14   6]\n",
      " [ -3   7  13]]\n",
      "Определитель:\n",
      "0\n"
     ]
    }
   ],
   "source": [
    "A = np.array([[-2, 7, -3], [4, -14, 6], [-3, 7, 13]])\n",
    "print(f'Матрица:\\n{A}')\n",
    "print(f'Определитель:\\n{np.linalg.det(A):.0f}')"
   ]
  },
  {
   "cell_type": "markdown",
   "metadata": {},
   "source": [
    "__4.__ Найти ранг матрицы:\n",
    "\n",
    "   а) $\\begin{pmatrix}\n",
    "1 & 2 & 3\\\\ \n",
    "1 & 1 & 1\\\\ \n",
    "2 & 3 & 4\n",
    "\\end{pmatrix};$\n",
    "\n",
    "   б) $\\begin{pmatrix}\n",
    "0 & 0 & 2 & 1\\\\ \n",
    "0 & 0 & 2 & 2\\\\ \n",
    "0 & 0 & 4 & 3\\\\ \n",
    "2 & 3 & 5 & 6\n",
    "\\end{pmatrix}.$"
   ]
  },
  {
   "cell_type": "markdown",
   "metadata": {},
   "source": [
    "а) Третья строка является суммой первой и второй строк, значит ее можно отбросить:\n",
    "\n",
    "$\\begin{pmatrix}\n",
    "1 & 2 & 3\\\\ \n",
    "1 & 1 & 1 \n",
    "\\end{pmatrix}$\n",
    "\n",
    "Вычтем из второй строки первую:\n",
    "\n",
    "$\\begin{pmatrix}\n",
    "1 & 2 & 3\\\\ \n",
    "0 & -1 & -2 \n",
    "\\end{pmatrix}$\n",
    "\n",
    "Таким образом, ранг матрицы равен $2$.\n",
    "\n",
    "б) Третья строка является суммой первой и второй строк, значит ее можно отбросить:\n",
    "\n",
    "$\\begin{pmatrix}\n",
    "0 & 0 & 2 & 1\\\\ \n",
    "0 & 0 & 2 & 2\\\\ \n",
    "2 & 3 & 5 & 6\n",
    "\\end{pmatrix}$\n",
    "\n",
    "Второй столбец является произведением первого столбца на $1.5$, значит его можно отбросить:\n",
    "\n",
    "$\\begin{pmatrix}\n",
    "0 & 2 & 1\\\\ \n",
    "0 & 2 & 2\\\\ \n",
    "2 & 5 & 6\n",
    "\\end{pmatrix}$\n",
    "\n",
    "Переставим третью и первую строки:\n",
    "\n",
    "$\\begin{pmatrix}\n",
    "2 & 5 & 6\\\\ \n",
    "0 & 2 & 2\\\\ \n",
    "0 & 2 & 1\n",
    "\\end{pmatrix}$\n",
    "\n",
    "Вычтем из третьей строки вторую:\n",
    "\n",
    "$\\begin{pmatrix}\n",
    "2 & 5 & 6\\\\ \n",
    "0 & 2 & 2\\\\ \n",
    "0 & 0 & -1\n",
    "\\end{pmatrix}$\n",
    "\n",
    "Таким образом, ранг матрицы равен $3$."
   ]
  },
  {
   "cell_type": "code",
   "execution_count": 16,
   "metadata": {},
   "outputs": [
    {
     "name": "stdout",
     "output_type": "stream",
     "text": [
      "Матрица:\n",
      "[[1 2 3]\n",
      " [1 1 1]\n",
      " [2 3 4]]\n",
      "Ранг матрицы: 2\n",
      "Матрица:\n",
      "[[0 0 2 1]\n",
      " [0 0 2 2]\n",
      " [0 0 4 3]\n",
      " [2 3 5 6]]\n",
      "Ранг матрицы: 3\n"
     ]
    }
   ],
   "source": [
    "a = np.array([[1, 2, 3], [1, 1, 1], [2, 3, 4]])\n",
    "r = np.linalg.matrix_rank(a)\n",
    "\n",
    "print(f'Матрица:\\n{a}')\n",
    "print(f'Ранг матрицы: {r}')\n",
    "\n",
    "b = np.array([[0, 0, 2, 1], [0, 0, 2, 2], [0, 0, 4, 3], [2, 3, 5, 6]])\n",
    "r = np.linalg.matrix_rank(b)\n",
    "\n",
    "print(f'Матрица:\\n{b}')\n",
    "print(f'Ранг матрицы: {r}')"
   ]
  },
  {
   "cell_type": "markdown",
   "metadata": {},
   "source": []
  }
 ],
 "metadata": {
  "kernelspec": {
   "display_name": "Python 3",
   "language": "python",
   "name": "python3"
  },
  "language_info": {
   "codemirror_mode": {
    "name": "ipython",
    "version": 3
   },
   "file_extension": ".py",
   "mimetype": "text/x-python",
   "name": "python",
   "nbconvert_exporter": "python",
   "pygments_lexer": "ipython3",
   "version": "3.8.5"
  }
 },
 "nbformat": 4,
 "nbformat_minor": 4
}
