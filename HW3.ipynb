{
 "cells": [
  {
   "cell_type": "markdown",
   "metadata": {},
   "source": [
    "__1.__ Установить, какие произведения матриц $AB$ и $BA$ определены, и найти размерности полученных матриц:\n",
    "\n",
    "   а) $A$ — матрица $4\\times 2$, $B$ — матрица $4\\times 2$;\n",
    "    \n",
    "   б) $A$ — матрица $2\\times 5$, $B$ — матрица $5\\times 3$;\n",
    "    \n",
    "   в) $A$ — матрица $8\\times 3$, $B$ — матрица $3\\times 8$;\n",
    "    \n",
    "   г) $A$ — квадратная матрица $4\\times 4$, $B$ — квадратная матрица $4\\times 4$."
   ]
  },
  {
   "cell_type": "markdown",
   "metadata": {},
   "source": [
    "а) $A \\cdot B$ и $B \\cdot A$ не определены;\n",
    "\n",
    "б) $A \\cdot B$ определено, $AB$ — матрица $2\\times 3$, $B \\cdot A$ не определено;\n",
    "\n",
    "в) $A \\cdot B$ определено, $AB$ — матрица $8\\times 8$, $B \\cdot A$ определено, $BA$ — матрица $3\\times 3$;\n",
    "\n",
    "г) $A \\cdot B$ и $B \\cdot A$ определены, $AB$ и $BA$ — квадратные матрицы $4\\times 4$."
   ]
  },
  {
   "cell_type": "code",
   "execution_count": 9,
   "metadata": {},
   "outputs": [],
   "source": [
    "import numpy as np"
   ]
  },
  {
   "cell_type": "code",
   "execution_count": 7,
   "metadata": {},
   "outputs": [
    {
     "name": "stdout",
     "output_type": "stream",
     "text": [
      "(2, 3)\n",
      "(8, 8)\n",
      "(3, 3)\n",
      "(4, 4)\n"
     ]
    }
   ],
   "source": [
    "a = np.ones((4,2))\n",
    "b = np.ones((2,5))\n",
    "c = np.ones((5,3))\n",
    "d = np.ones((8,3))\n",
    "e = np.ones((3,8))\n",
    "f = np.ones((4,4))\n",
    "\n",
    "print(np.shape(np.dot(b,c)))\n",
    "print(np.shape(np.dot(d,e)))\n",
    "print(np.shape(np.dot(e,d)))\n",
    "print(np.shape(np.dot(f,f)))"
   ]
  },
  {
   "cell_type": "markdown",
   "metadata": {},
   "source": [
    "__2.__ Найти сумму и произведение матриц $A=\\begin{pmatrix}\n",
    "1 & -2\\\\ \n",
    "3 & 0\n",
    "\\end{pmatrix}$ и $B=\\begin{pmatrix}\n",
    "4 & -1\\\\ \n",
    "0 & 5\n",
    "\\end{pmatrix}.$"
   ]
  },
  {
   "cell_type": "markdown",
   "metadata": {},
   "source": [
    "$$A+B = \\begin{pmatrix}\n",
    "1 & -2\\\\ \n",
    "3 & 0 \n",
    "\\end{pmatrix} + \\begin{pmatrix}\n",
    "4 & -1\\\\ \n",
    "0 & 5\n",
    "\\end{pmatrix} = \\begin{pmatrix}\n",
    "5 & -3\\\\\n",
    "3 & 5\n",
    "\\end{pmatrix}\n",
    "$$\n",
    "\n",
    "$$A\\cdot B = \\begin{pmatrix}\n",
    "1\\cdot4+(-2)\\cdot0 & 1\\cdot(-1)+(-2)\\cdot5\\\\\n",
    "3\\cdot4+0\\cdot0 & 3\\cdot(-1)+0\\cdot5\n",
    "\\end{pmatrix} = \\begin{pmatrix}\n",
    "4 & -11\\\\\n",
    "12 & -3\n",
    "\\end{pmatrix}\n",
    "$$\n",
    "\n",
    "$$B\\cdot A = \\begin{pmatrix}\n",
    "4\\cdot1+(-1)\\cdot3 & 4\\cdot(-2)+(-1)\\cdot0\\\\\n",
    "0\\cdot1+5\\cdot3 & 0\\cdot(-2)+5\\cdot0\n",
    "\\end{pmatrix} = \\begin{pmatrix}\n",
    "1 & -8\\\\\n",
    "15 & 0\n",
    "\\end{pmatrix}\n",
    "$$"
   ]
  },
  {
   "cell_type": "code",
   "execution_count": 12,
   "metadata": {},
   "outputs": [
    {
     "name": "stdout",
     "output_type": "stream",
     "text": [
      "A + B =\n",
      "[[ 5 -3]\n",
      " [ 3  5]]\n",
      "AB =\n",
      "[[  4 -11]\n",
      " [ 12  -3]]\n",
      "BA =\n",
      "[[ 1 -8]\n",
      " [15  0]]\n"
     ]
    }
   ],
   "source": [
    "A = np.array([[1, -2], [3, 0]])\n",
    "B = np.array([[4, -1], [0, 5]])\n",
    "print(f'A + B =\\n{A + B}')\n",
    "print(f'AB =\\n{np.dot(A, B)}')\n",
    "print(f'BA =\\n{np.dot(B, A)}')"
   ]
  },
  {
   "cell_type": "markdown",
   "metadata": {},
   "source": [
    "__3.__ Из закономерностей сложения и умножения матриц на число можно сделать вывод, что матрицы одного размера образуют линейное пространство. Вычислить линейную комбинацию $3A-2B+4C$ для матриц $A=\\begin{pmatrix}\n",
    "1 & 7\\\\ \n",
    "3 & -6\n",
    "\\end{pmatrix}$, $B=\\begin{pmatrix}\n",
    "0 & 5\\\\ \n",
    "2 & -1\n",
    "\\end{pmatrix}$, $C=\\begin{pmatrix}\n",
    "2 & -4\\\\ \n",
    "1 & 1\n",
    "\\end{pmatrix}.$"
   ]
  },
  {
   "cell_type": "markdown",
   "metadata": {},
   "source": [
    "$$3A-2B+4C = 3\\cdot\\begin{pmatrix}\n",
    "1 & 7\\\\ \n",
    "3 & -6\n",
    "\\end{pmatrix} - 2\\cdot\\begin{pmatrix}\n",
    "0 & 5\\\\ \n",
    "2 & -1\n",
    "\\end{pmatrix} + 4\\cdot\\begin{pmatrix}\n",
    "2 & -4\\\\ \n",
    "1 & 1\n",
    "\\end{pmatrix} = \\begin{pmatrix}\n",
    "3\\cdot1+0+4\\cdot2 & 3\\cdot7-2\\cdot5-4\\cdot4\\\\ \n",
    "3\\cdot3-2\\cdot2+4\\cdot1 & -3\\cdot6+2\\cdot1+4\\cdot1\n",
    "\\end{pmatrix} = \\begin{pmatrix}\n",
    "11 & -5\\\\ \n",
    "9 & -12\n",
    "\\end{pmatrix}\n",
    "$$"
   ]
  },
  {
   "cell_type": "code",
   "execution_count": 13,
   "metadata": {},
   "outputs": [
    {
     "name": "stdout",
     "output_type": "stream",
     "text": [
      "3A - 2B + 4C =\n",
      "[[ 11  -5]\n",
      " [  9 -12]]\n"
     ]
    }
   ],
   "source": [
    "A = np.array([[1, 7], [3, -6]])\n",
    "B = np.array([[0, 5], [2, -1]])\n",
    "C = np.array([[2, -4], [1, 1]])\n",
    "print(f'3A - 2B + 4C =\\n{3 * A - 2 * B + 4 * C}')"
   ]
  },
  {
   "cell_type": "markdown",
   "metadata": {},
   "source": [
    "__4*.__ Написать на Python функцию для перемножения двух произвольных матриц, не используя NumPy."
   ]
  },
  {
   "cell_type": "code",
   "execution_count": 33,
   "metadata": {},
   "outputs": [
    {
     "name": "stdout",
     "output_type": "stream",
     "text": [
      "[4\t-11\n",
      " 12\t-3]\n",
      "[1\t-8\n",
      " 15\t0]\n",
      "[2\t-4\t-11\n",
      " 6\t6\t-3]\n",
      "Matrix multiplication is not defined.\n",
      "[-4\n",
      " 6]\n",
      "Matrix multiplication is not defined.\n"
     ]
    }
   ],
   "source": [
    "class Matrix:\n",
    "    \n",
    "    def __init__(self, matrix):\n",
    "        self.matrix = matrix\n",
    "        \n",
    "    def __str__(self):\n",
    "        return '[' + '\\n '.join(['\\t'.join([str(i) for i in el]) for el in self.matrix]) + ']'\n",
    "    \n",
    "    def __mul__(self, other):\n",
    "        if len(self.matrix[0]) != len(other.matrix):\n",
    "            return \"Matrix multiplication is not defined.\"\n",
    "        else:\n",
    "            result = []\n",
    "            row = []\n",
    "            for i in range(len(self.matrix)):\n",
    "                for j in range(len(other.matrix[0])):\n",
    "                    row.append(sum([self.matrix[i][p] * other.matrix[p][j] for p in range(len(self.matrix[0]))]))\n",
    "                    if len(row) == len(other.matrix[0]):\n",
    "                        result.append(row)\n",
    "                        row = []\n",
    "            result = Matrix(result)\n",
    "            return result\n",
    "\n",
    "\n",
    "A = Matrix([[1, -2], [3, 0]])\n",
    "B = Matrix([[4, -1], [0, 5]])\n",
    "\n",
    "print(A * B)\n",
    "print(B * A)\n",
    "\n",
    "C = Matrix([[2, 2, -1], [0, 3, 5]])\n",
    "\n",
    "print(A * C)\n",
    "print(C * A)\n",
    "\n",
    "D = Matrix([[2],[3]])\n",
    "\n",
    "print(A * D)\n",
    "print(D * A)\n"
   ]
  },
  {
   "cell_type": "code",
   "execution_count": null,
   "metadata": {},
   "outputs": [],
   "source": []
  }
 ],
 "metadata": {
  "kernelspec": {
   "display_name": "Python 3",
   "language": "python",
   "name": "python3"
  },
  "language_info": {
   "codemirror_mode": {
    "name": "ipython",
    "version": 3
   },
   "file_extension": ".py",
   "mimetype": "text/x-python",
   "name": "python",
   "nbconvert_exporter": "python",
   "pygments_lexer": "ipython3",
   "version": "3.8.5"
  }
 },
 "nbformat": 4,
 "nbformat_minor": 4
}
