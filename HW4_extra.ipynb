{
 "cells": [
  {
   "cell_type": "code",
   "execution_count": 3,
   "metadata": {},
   "outputs": [
    {
     "name": "stdout",
     "output_type": "stream",
     "text": [
      "[4\t-11\n",
      " 12\t-3]\n",
      "[1\t-8\n",
      " 15\t0]\n",
      "[2\t-4\t-11\n",
      " 6\t6\t-3]\n",
      "Matrix multiplication is not defined.\n",
      "6\n",
      "20\n",
      "Determinant is not defined.\n",
      "-180\n"
     ]
    }
   ],
   "source": [
    "class Matrix:\n",
    "\n",
    "    def __init__(self, matrix):\n",
    "        self.matrix = matrix\n",
    "\n",
    "    def __str__(self):\n",
    "        return '[' + '\\n '.join('\\t'.join([str(i) for i in el]) for el in self.matrix) + ']'\n",
    "\n",
    "    def __mul__(self, other):\n",
    "        if len(self.matrix[0]) != len(other.matrix):\n",
    "            return \"Matrix multiplication is not defined.\"\n",
    "        else:\n",
    "            result = []\n",
    "            row = []\n",
    "            for i in range(len(self.matrix)):\n",
    "                for j in range(len(other.matrix[0])):\n",
    "                    row.append(sum([self.matrix[i][p] * other.matrix[p][j] for p in range(len(self.matrix[0]))]))\n",
    "                    if len(row) == len(other.matrix[0]):\n",
    "                        result.append(row)\n",
    "                        row = []\n",
    "            result = Matrix(result)\n",
    "            return result\n",
    "\n",
    "    def det(self):\n",
    "        if len(self.matrix) != len(self.matrix[0]):\n",
    "            return \"Determinant is not defined.\"\n",
    "        if len(self.matrix) == len(self.matrix[0]) == 1:\n",
    "            return self.matrix[0][0]\n",
    "        else:\n",
    "            d = 0\n",
    "            for j in range(len(self.matrix[0])):\n",
    "                m = self.matrix.copy()\n",
    "                for i in range(len(m)):\n",
    "                    m[i] = self.matrix[i].copy()\n",
    "                    m[i].pop(j)\n",
    "                m.pop(0)\n",
    "                d += (-1)**j * self.matrix[0][j] * Matrix(m).det()\n",
    "            return d\n",
    "\n",
    "\n",
    "A = Matrix([[1, -2], [3, 0]])\n",
    "B = Matrix([[4, -1], [0, 5]])\n",
    "\n",
    "print(A * B)\n",
    "print(B * A)\n",
    "\n",
    "C = Matrix([[2, 2, -1], [0, 3, 5]])\n",
    "\n",
    "print(A * C)\n",
    "print(C * A)\n",
    "\n",
    "print(A.det())\n",
    "print(B.det())\n",
    "print(C.det())\n",
    "\n",
    "D = Matrix([[-4, -2, -3], [0, 5, 1], [0, 0, 9]])\n",
    "print(D.det())"
   ]
  },
  {
   "cell_type": "code",
   "execution_count": null,
   "metadata": {},
   "outputs": [],
   "source": []
  }
 ],
 "metadata": {
  "kernelspec": {
   "display_name": "Python 3",
   "language": "python",
   "name": "python3"
  },
  "language_info": {
   "codemirror_mode": {
    "name": "ipython",
    "version": 3
   },
   "file_extension": ".py",
   "mimetype": "text/x-python",
   "name": "python",
   "nbconvert_exporter": "python",
   "pygments_lexer": "ipython3",
   "version": "3.8.5"
  }
 },
 "nbformat": 4,
 "nbformat_minor": 4
}
