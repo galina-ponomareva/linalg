{
 "cells": [
  {
   "cell_type": "markdown",
   "metadata": {},
   "source": [
    "__1.__ Найти скалярное произведение векторов $x, y \\in \\mathbb{R}$:<br>\n",
    "а) $x=(0,-3, 6),~y=(-4, 7, 9);$<br>\n",
    "б) $x=(7, -4, 0, 1),~y=(-3, 1, 11, 2).$"
   ]
  },
  {
   "cell_type": "markdown",
   "metadata": {},
   "source": [
    "а) $$(x,y) = 0\\cdot(-4)+(-3)\\cdot7+6\\cdot9 = 0-21+54 = 33$$\n",
    "\n",
    "б) $$(x,y) = 7\\cdot(-3)+(-4)\\cdot1+0\\cdot11+1\\cdot2 = -21-4+0+2 = -23$$"
   ]
  },
  {
   "cell_type": "code",
   "execution_count": 1,
   "metadata": {},
   "outputs": [],
   "source": [
    "import numpy as np"
   ]
  },
  {
   "cell_type": "code",
   "execution_count": 4,
   "metadata": {},
   "outputs": [
    {
     "name": "stdout",
     "output_type": "stream",
     "text": [
      "а) Скалярное произведение (x,y) = 33\n",
      "б) Скалярное произведение (x,y) = -23\n"
     ]
    }
   ],
   "source": [
    "x = np.array([0, -3, 6])\n",
    "y = np.array([-4, 7, 9])\n",
    "print(f'а) Скалярное произведение (x,y) = {np.dot(x, y)}')\n",
    "\n",
    "x = np.array([7, -4, 0, 1])\n",
    "y = np.array([-3, 1, 11, 2])\n",
    "print(f'б) Скалярное произведение (x,y) = {x @ y}')"
   ]
  },
  {
   "cell_type": "markdown",
   "metadata": {},
   "source": [
    "__2.__ Найти нормы векторов $(4, 2, 4)$ и $(12, 3, 4)$ и угол между ними."
   ]
  },
  {
   "cell_type": "markdown",
   "metadata": {},
   "source": [
    "Пусть $a = (4, 2, 4)$ и $b = (12, 3, 4)$.\n",
    "\n",
    "Определим манхэттенские нормы векторов $a$ и $b$:\n",
    "\n",
    "$$\\left\\|a\\right\\|_{1} = |4|+|2|+|4| = 10$$\n",
    "\n",
    "$$\\left\\|b\\right\\|_{1} = |12|+|3|+|4| = 19$$\n",
    "\n",
    "Определим евклидовы нормы векторов $a$ и $b$:\n",
    "\n",
    "$$\\left\\|a\\right\\|_{2} = \\sqrt{4^{2}+2^{2}+4^{2}} = \\sqrt{16+4+16} = \\sqrt{36} = 6$$\n",
    "\n",
    "$$\\left\\|b\\right\\|_{2} = \\sqrt{12^{2}+3^{2}+4^{2}}=\\sqrt{144+9+16} = \\sqrt{169} = 13$$\n",
    "\n",
    "Определим угол между векторами $a$ и $b$:\n",
    "\n",
    "$$cos\\varphi = \\frac{(a,b)}{\\left \\|a\\right \\|_{2}\\cdot\\left \\|b\\right \\|_{2}} = \\frac{4\\cdot12+2\\cdot3+4\\cdot4}{6\\cdot13} = \\frac{48+6+16}{78} = \\frac{70}{78} = \\frac{35}{39} \\approx 0.897$$\n",
    "\n",
    "$$\\varphi \\approx 0.457$$ "
   ]
  },
  {
   "cell_type": "code",
   "execution_count": 10,
   "metadata": {},
   "outputs": [],
   "source": [
    "from numpy.linalg import norm\n",
    "import math"
   ]
  },
  {
   "cell_type": "code",
   "execution_count": 11,
   "metadata": {},
   "outputs": [
    {
     "name": "stdout",
     "output_type": "stream",
     "text": [
      "Манхэттенские нормы векторов:\n",
      "а 10.0\n",
      "b 19.0\n",
      "Евклидовы нормы векторов:\n",
      "а 6.0\n",
      "b 13.0\n",
      "Косинус угла между векторами:\n",
      "cos_phi = 0.8974358974358975\n",
      "phi = 0.45687400353266105\n"
     ]
    }
   ],
   "source": [
    "a = np.array([4, 2, 4])\n",
    "b = np.array([12, 3, 4])\n",
    "\n",
    "print(f'Манхэттенские нормы векторов:\\nа {norm(a, ord=1)}\\nb {norm(b, ord=1)}')\n",
    "print(f'Евклидовы нормы векторов:\\nа {norm(a, ord=2)}\\nb {norm(b, ord=2)}')\n",
    "\n",
    "cos_phi = np.dot(a, b) / (norm(a) * norm(b))\n",
    "print(f'Косинус угла между векторами:\\ncos_phi = {cos_phi}')\n",
    "print(f'phi = {math.acos(cos_phi)}')"
   ]
  },
  {
   "cell_type": "markdown",
   "metadata": {},
   "source": [
    "__3.__ Будет ли линейное пространство евклидовым, если за скалярное произведение принять:\n",
    "\n",
    "а) произведение длин векторов;\n",
    "\n",
    "б) утроенное обычное скалярное произведение векторов?"
   ]
  },
  {
   "cell_type": "markdown",
   "metadata": {},
   "source": [
    "Чтобы линейное пространство было евклидовым указанное правило для скалярного произведения должно подчиняться четырем аксиомам:\n",
    "\n",
    "1) $(x,y)=(y,x);$\n",
    "\n",
    "2) $(\\lambda x, y)=\\lambda(x, y);$\n",
    "\n",
    "3) $(x_{1}+x_{2},y)=(x_{1},y)+(x_{2},y);$\n",
    "\n",
    "4) $(x, x)\\geq0$, причем $(x,x)=0\\Leftrightarrow x=0.$\n"
   ]
  },
  {
   "cell_type": "markdown",
   "metadata": {},
   "source": [
    "а) Пусть $x=(a_{1},a_{2},...,a_{n})$ и $y=(b_{1},b_{2},...,b_{n})$. Тогда скалярное произведение определено как:\n",
    "\n",
    "$$(x,y)=\\sqrt{\\sum_{i}|a_{i}|^{2}} \\cdot \\sqrt{\\sum_{i}|b_{i}|^{2}}$$\n",
    "\n",
    "Проверим аксиомы:\n",
    "\n",
    "1) $$(x,y) = \\sqrt{\\sum_{i}|a_{i}|^{2}} \\cdot \\sqrt{\\sum_{i}|b_{i}|^{2}} = \\sqrt{\\sum_{i}|b_{i}|^{2}} \\cdot \\sqrt{\\sum_{i}|a_{i}|^{2}} = (y,x)$$\n",
    "\n",
    "2) $$(\\lambda x, y) = \\sqrt{\\sum_{i}|\\lambda a_{i}|^{2}} \\cdot \\sqrt{\\sum_{i}|b_{i}|^{2}} = \\sqrt{\\lambda^2\\sum_{i}|a_{i}|^{2}} \\cdot \\sqrt{\\sum_{i}|b_{i}|^{2}} = |\\lambda| \\cdot \\sqrt{\\sum_{i}|a_{i}|^{2}} \\cdot \\sqrt{\\sum_{i}|b_{i}|^{2}} = |\\lambda|(x,y) \\neq \\lambda(x,y)$$\n",
    "\n",
    "Вторая аксиома не выполняется, поэтому линейное пространство не будет евклидовым."
   ]
  },
  {
   "cell_type": "markdown",
   "metadata": {},
   "source": [
    "б) Пусть $x=(a_{1},a_{2},...,a_{n})$ и $y=(b_{1},b_{2},...,b_{n})$. Тогда скалярное произведение определено как:\n",
    "\n",
    "$$(x,y) = 3a_{1}b_{1}+3a_{2}b_{2}+...+3a_{n}b_{n}$$\n",
    "\n",
    "Проверим аксиомы:\n",
    "\n",
    "1) $$(x,y) = 3a_{1}b_{1}+3a_{2}b_{2}+...+3a_{n}b_{n} = 3b_{1}a_{1}+3b_{2}a_{2}+...+3b_{n}a_{n} = (y,x)$$\n",
    "\n",
    "2) $$(\\lambda x,y) = 3(\\lambda a_{1})b_{1}+3(\\lambda a_{2})b_{2}+...+3(\\lambda a_{n})b_{n} = \\lambda \\cdot (3a_{1}b_{1}+3a_{2}b_{2}+...+3a_{n}b_{n}) = \\lambda (x,y)$$\n",
    "\n",
    "3) Пусть $x_{1}=(a_{1},a_{2},...,a_{n})$, $x_{2}=(b_{1},b_{2},...,b_{n})$ и $y=(c_{1},c_{2},...,c_{n})$\n",
    "\n",
    "$$(x_{1}+x_{2},y) = 3(a_{1}+b_{1})c_{1}+3(a_{2}+b_{2})c_{2}+...+3(a_{n}+b_{n})c_{n} = 3a_{1}c_{1}+3b_{1}c_{1}+3a_{2}c_{2}+3b_{2}c_{2}+...+3a_{n}c_{n}+3b_{n}c_{n} = (3a_{1}c_{1}+3a_{2}c_{2}+...+3a_{n}c_{n})+(3b_{1}c_{1}+3b_{2}c_{2}+...+3b_{n}c_{n}) = (x_{1},y)+(x_{2},y)$$\n",
    "\n",
    "4) $$(x,x) = 3a_{1}a_{1}+3a_{2}a_{2}+...+3a_{n}a_{n} = 3a_{1}^2+3a_{2}^2+...+3a_{n}^2 \\geq 0$$\n",
    "\n",
    "При этом если $(x,x)=0, тогда:\n",
    "\n",
    "$$3a_{1}^2+3a_{2}^2+...+3a_{n}^2 = 0 \\Leftrightarrow a_{1} = 0, a_{2} = 0, ..., a_{n} = 0 \\rightarrow x=0$$\n",
    "\n",
    "Таким образом, все четыре аксиомы выполняются, поэтому линейное пространство будет евклидовым."
   ]
  },
  {
   "cell_type": "markdown",
   "metadata": {},
   "source": [
    "__4.__ Какие из нижеперечисленных векторов образуют ортонормированный базис в линейном пространстве $\\mathbb{R}^{3}$:\n",
    "\n",
    "а) $(1,0,0),(0,0,1);$\n",
    "\n",
    "б) $(1/\\sqrt{2},-1/\\sqrt{2},0),(1/\\sqrt{2},1/\\sqrt{2},0), (0,0,1);$\n",
    "\n",
    "в) $(1/2, -1/2, 0), (0, 1/2, 1/2), (0,0,1);$\n",
    "\n",
    "г) $(1,0,0),(0,1,0),(0,0,1)?$"
   ]
  },
  {
   "cell_type": "markdown",
   "metadata": {},
   "source": [
    "а) Так как линейное пространство $\\mathbb{R}^{3}$ имеет размерность $n=3$, то нужно три базисных вектора. Поэтому данные вектора ортонормированный базис не образуют.\n",
    "\n",
    "б) Пусть $a_1 = (1/\\sqrt{2},-1/\\sqrt{2},0)$, $a_2 = (1/\\sqrt{2},1/\\sqrt{2},0)$, $a_3 = (0,0,1)$.\n",
    "\n",
    "Проверяем скалярные произведения:\n",
    "\n",
    "$$(a_1,a_1) = \\frac{1}{\\sqrt{2}} \\cdot \\frac{1}{\\sqrt{2}} + (-\\frac{1}{\\sqrt{2}}) \\cdot (-\\frac{1}{\\sqrt{2}}) + 0 = \\frac{1}{2} + \\frac{1}{2} = 1$$\n",
    "\n",
    "$$(a_2,a_2) = \\frac{1}{\\sqrt{2}} \\cdot \\frac{1}{\\sqrt{2}} + \\frac{1}{\\sqrt{2}} \\cdot \\frac{1}{\\sqrt{2}} + 0 = \\frac{1}{2} + \\frac{1}{2} = 1$$\n",
    "\n",
    "$$(a_3,a_3) = 0 + 0 + 1\\cdot1 = 1$$\n",
    "\n",
    "$$(a_1,a_2) = \\frac{1}{\\sqrt{2}} \\cdot \\frac{1}{\\sqrt{2}} + (-\\frac{1}{\\sqrt{2}}) \\cdot \\frac{1}{\\sqrt{2}} + 0 = \\frac{1}{2} - \\frac{1}{2} = 0$$\n",
    "\n",
    "$$(a_1,a_3) = \\frac{1}{\\sqrt{2}} \\cdot 0 + (-\\frac{1}{\\sqrt{2}}) \\cdot 0 + 0 = 0$$\n",
    "\n",
    "$$(a_2,a_3) = \\frac{1}{\\sqrt{2}} \\cdot 0 + \\frac{1}{\\sqrt{2}} \\cdot 0 + 0 = 0$$\n",
    "\n",
    "Данные вектора образуют ортонормированный базис."
   ]
  },
  {
   "cell_type": "code",
   "execution_count": 26,
   "metadata": {},
   "outputs": [
    {
     "name": "stdout",
     "output_type": "stream",
     "text": [
      "Скалярные произведения векторов:\n",
      "(a, a) 0.9999999999999998\n",
      "(b, b) 0.9999999999999998\n",
      "(c, c) 1\n",
      "Скалярные произведения векторов:\n",
      "(a, b) 0.0\n",
      "(b, c) 0.0\n",
      "(a, c) 0.0\n"
     ]
    }
   ],
   "source": [
    "a = np.array([1/2**0.5, -1/2**0.5, 0])\n",
    "b = np.array([1/2**0.5, 1/2**0.5, 0])\n",
    "c = np.array([0, 0, 1])\n",
    "\n",
    "print(f'Скалярные произведения векторов:\\n(a, a) {a @ a}\\n(b, b) {b @ b}\\n(c, c) {c @ c}')\n",
    "print(f'Скалярные произведения векторов:\\n(a, b) {np.dot(a, b)}\\n(b, c) {np.dot(b, c)}\\n(a, c) {np.dot(a, c)}')"
   ]
  },
  {
   "cell_type": "markdown",
   "metadata": {},
   "source": [
    "в) Пусть $a_1 = (1/2, -1/2, 0)$, $a_2 = (0, 1/2, 1/2)$, $a_3 = (0,0,1)$.\n",
    "\n",
    "Проверяем скалярные произведения:\n",
    "\n",
    "$$(a_1,a_1) = \\frac{1}{2} \\cdot \\frac{1}{2} + (-\\frac{1}{2}) \\cdot (-\\frac{1}{2}) + 0 = \\frac{1}{4} + \\frac{1}{4} = 0.5$$\n",
    "\n",
    "$$(a_2,a_2) = 0 + \\frac{1}{2} \\cdot \\frac{1}{2} + \\frac{1}{2} \\cdot \\frac{1}{2} = \\frac{1}{4} + \\frac{1}{4} = 0.5$$\n",
    "\n",
    "$$(a_3,a_3) = 0 + 0 + 1\\cdot1 = 1$$\n",
    "\n",
    "$$(a_1,a_2) = \\frac{1}{2} \\cdot 0 + (-\\frac{1}{2}) \\cdot \\frac{1}{2} + 0 \\cdot \\frac{1}{2} = -\\frac{1}{4} = -0.25$$\n",
    "\n",
    "$$(a_1,a_3) = \\frac{1}{2} \\cdot 0 + (-\\frac{1}{2}) \\cdot 0 + 0 \\cdot 1 = 0$$\n",
    "\n",
    "$$(a_2,a_3) = 0 + \\frac{1}{2} \\cdot 0 + \\frac{1}{2} \\cdot 1 = \\frac{1}{2} = 0.5$$\n",
    "\n",
    "Данные вектора не образуют ортонормированный базис."
   ]
  },
  {
   "cell_type": "code",
   "execution_count": 27,
   "metadata": {},
   "outputs": [
    {
     "name": "stdout",
     "output_type": "stream",
     "text": [
      "Скалярные произведения векторов:\n",
      "(a, a) 0.5\n",
      "(b, b) 0.5\n",
      "(c, c) 1\n",
      "Скалярные произведения векторов:\n",
      "(a, b) -0.25\n",
      "(b, c) 0.5\n",
      "(a, c) 0.0\n"
     ]
    }
   ],
   "source": [
    "a = np.array([0.5, -0.5, 0])\n",
    "b = np.array([0, 0.5, 0.5])\n",
    "c = np.array([0, 0, 1])\n",
    "\n",
    "print(f'Скалярные произведения векторов:\\n(a, a) {a @ a}\\n(b, b) {b @ b}\\n(c, c) {c @ c}')\n",
    "print(f'Скалярные произведения векторов:\\n(a, b) {np.dot(a, b)}\\n(b, c) {np.dot(b, c)}\\n(a, c) {np.dot(a, c)}')"
   ]
  },
  {
   "cell_type": "markdown",
   "metadata": {},
   "source": [
    "г) Пусть $a_1 = (1,0,0)$, $a_2 = (0,1,0)$, $a_3 = (0,0,1)$.\n",
    "\n",
    "Проверяем скалярные произведения:\n",
    "\n",
    "$$(a_1,a_1) = 1\\cdot1 + 0 + 0 = 1$$\n",
    "\n",
    "$$(a_2,a_2) = 0 + 1\\cdot1 + 0 = 1$$\n",
    "\n",
    "$$(a_3,a_3) = 0 + 0 + 1\\cdot1 = 1$$\n",
    "\n",
    "$$(a_1,a_2) = 1\\cdot0 + 0\\cdot1 + 0 = 0$$\n",
    "\n",
    "$$(a_1,a_3) = 1\\cdot0 + 0 + 0\\cdot1 = 0$$\n",
    "\n",
    "$$(a_2,a_3) = 0 + 1\\cdot0 + 0\\cdot1 = 0$$\n",
    "\n",
    "Данные вектора образуют ортонормированный базис."
   ]
  },
  {
   "cell_type": "code",
   "execution_count": 28,
   "metadata": {},
   "outputs": [
    {
     "name": "stdout",
     "output_type": "stream",
     "text": [
      "Скалярные произведения векторов:\n",
      "(a, a) 1\n",
      "(b, b) 1\n",
      "(c, c) 1\n",
      "Скалярные произведения векторов:\n",
      "(a, b) 0\n",
      "(b, c) 0\n",
      "(a, c) 0\n"
     ]
    }
   ],
   "source": [
    "a = np.array([1, 0, 0])\n",
    "b = np.array([0, 1, 0])\n",
    "c = np.array([0, 0, 1])\n",
    "\n",
    "print(f'Скалярные произведения векторов:\\n(a, a) {a @ a}\\n(b, b) {b @ b}\\n(c, c) {c @ c}')\n",
    "print(f'Скалярные произведения векторов:\\n(a, b) {np.dot(a, b)}\\n(b, c) {np.dot(b, c)}\\n(a, c) {np.dot(a, c)}')"
   ]
  },
  {
   "cell_type": "code",
   "execution_count": null,
   "metadata": {},
   "outputs": [],
   "source": []
  }
 ],
 "metadata": {
  "kernelspec": {
   "display_name": "Python 3",
   "language": "python",
   "name": "python3"
  },
  "language_info": {
   "codemirror_mode": {
    "name": "ipython",
    "version": 3
   },
   "file_extension": ".py",
   "mimetype": "text/x-python",
   "name": "python",
   "nbconvert_exporter": "python",
   "pygments_lexer": "ipython3",
   "version": "3.8.5"
  }
 },
 "nbformat": 4,
 "nbformat_minor": 4
}
