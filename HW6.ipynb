{
 "cells": [
  {
   "cell_type": "markdown",
   "metadata": {},
   "source": [
    "__1.__ Решить систему уравнений методом Гаусса:\n",
    "\n",
    "$$\\begin{cases}\n",
    "x_{1}+x_{2}-x_{3}-2x_{4}=0, \\\\\n",
    "2x_{1}+x_{2}-x_{3}+x_{4}=-2, \\\\\n",
    "x_{1}+x_{2}-3x_{3}+x_{4}=4.\n",
    "\\end{cases}$$"
   ]
  },
  {
   "cell_type": "markdown",
   "metadata": {},
   "source": [
    "Запишем расширенную матрицу системы:\n",
    "\n",
    "$$\\begin{pmatrix}\n",
    "\\left.\\begin{matrix}\n",
    "1 & 1 & -1 & -2\\\\\n",
    "2 & 1 & -1 & 1\\\\\n",
    "1 & 1 & -3 & 1\n",
    "\\end{matrix}\\right|\n",
    "\\begin{matrix}\n",
    "0\\\\ \n",
    "-2\\\\\n",
    "4\n",
    "\\end{matrix}\n",
    "\\end{pmatrix}$$\n",
    "\n",
    "Путем элементарных преобразований приведем матрицу к ступенчатому виду.\n",
    "\n",
    "Из второй строки вычтем первую, умноженную на $2$, и из третьей вычтем первую.\n",
    "\n",
    "$$\\begin{pmatrix}\n",
    "\\left.\\begin{matrix}\n",
    "1 & 1 & -1 & -2\\\\\n",
    "0 & -1 & 1 & 5\\\\\n",
    "0 & 0 & -2 & 3\n",
    "\\end{matrix}\\right|\n",
    "\\begin{matrix}\n",
    "0\\\\ \n",
    "-2\\\\\n",
    "4\n",
    "\\end{matrix}\n",
    "\\end{pmatrix}$$\n",
    "\n",
    "Полученная матрица соответствует системе:\n",
    "\n",
    "$$\\begin{cases}\n",
    "x_{1}+x_{2}-x_{3}-2x_{4}=0, \\\\\n",
    "~~-x_{2}+x_{3}+5x_{4}=-2, \\\\\n",
    "~~~~-2x_{3}+3x_{4}=4\n",
    "\\end{cases}$$\n",
    "\n",
    "Запишем общее решение системы. Пусть $x_{4}=c$. Тогда, выражая остальные переменные через $c$, получим:\n",
    "\n",
    "$$x_{4}=c,$$\n",
    "$$-2x_{3}+3c=4 \\; \\Leftrightarrow \\; x_{3}=1.5c-2,$$\n",
    "$$-x_{2}+1.5c-2+5c=-2 \\; \\Leftrightarrow \\; x_{2}=6.5c,$$\n",
    "$$x_{1}+6.5c-1.5c+2-2c=0 \\; \\Leftrightarrow \\; x_{1}=-3c-2.$$\n",
    "\n",
    "Например, при $c=0$:\n",
    "\n",
    "$$x_{1}=-2,$$\n",
    "$$x_{2}=0,$$\n",
    "$$x_{3}=-2,$$\n",
    "$$x_{4}=0.$$"
   ]
  },
  {
   "cell_type": "markdown",
   "metadata": {},
   "source": [
    "__2.__ Проверить на совместность и выяснить, сколько решений будет иметь система линейных уравнений:\n",
    "\n",
    "   а) $\\begin{cases}\n",
    "3x_{1}-x_{2}+x_{3}=4, \\\\\n",
    "2x_{1}-5x_{2}-3x_{3}=-17, \\\\\n",
    "x_{1}+x_{2}-x_{3}=0;\n",
    "\\end{cases}$\n",
    "    \n",
    "   б) $\\begin{cases}\n",
    "2x_{1}-4x_{2}+6x_{3}=1, \\\\\n",
    "x_{1}-2x_{2}+3x_{3}=-2, \\\\\n",
    "3x_{1}-6x_{2}+9x_{3}=5;\n",
    "\\end{cases}$\n",
    "    \n",
    "   в) $\\begin{cases}\n",
    "x_{1}+2x_{2}+5x_{3}=4, \\\\\n",
    "3x_{1}+x_{2}-8x_{3}=-2. \n",
    "\\end{cases}$"
   ]
  },
  {
   "cell_type": "code",
   "execution_count": 1,
   "metadata": {},
   "outputs": [],
   "source": [
    "import numpy as np"
   ]
  },
  {
   "cell_type": "code",
   "execution_count": 8,
   "metadata": {},
   "outputs": [
    {
     "name": "stdout",
     "output_type": "stream",
     "text": [
      "Матрица:\n",
      "[[ 3 -1  1]\n",
      " [ 2 -5 -3]\n",
      " [ 1  1 -1]]\n",
      "Ранг матрицы: 3\n",
      "Матрица:\n",
      "[[  3  -1   1   4]\n",
      " [  2  -5  -3 -17]\n",
      " [  1   1  -1   0]]\n",
      "Ранг матрицы: 3\n"
     ]
    }
   ],
   "source": [
    "A = np.array([[3, -1, 1], [2, -5, -3], [1, 1, -1]])\n",
    "r = np.linalg.matrix_rank(A)\n",
    "\n",
    "print(f'Матрица:\\n{A}')\n",
    "print(f'Ранг матрицы: {r}')\n",
    "\n",
    "A_ = np.array([[3, -1, 1, 4], [2, -5, -3, -17], [1, 1, -1, 0]])\n",
    "r = np.linalg.matrix_rank(A_)\n",
    "\n",
    "print(f'Матрица:\\n{A_}')\n",
    "print(f'Ранг матрицы: {r}')"
   ]
  },
  {
   "cell_type": "markdown",
   "metadata": {},
   "source": [
    "а) По теореме Кронекера-Капелли, т.к. $rankA=rank \\tilde A=3$ и $n=3$ — число неизвестных, система совместна и имеет единственное решение."
   ]
  },
  {
   "cell_type": "code",
   "execution_count": 9,
   "metadata": {},
   "outputs": [
    {
     "name": "stdout",
     "output_type": "stream",
     "text": [
      "Матрица:\n",
      "[[ 2 -4  6]\n",
      " [ 1 -2  3]\n",
      " [ 3 -6  9]]\n",
      "Ранг матрицы: 1\n",
      "Матрица:\n",
      "[[ 2 -4  6  1]\n",
      " [ 1 -2  3 -2]\n",
      " [ 3 -6  9  5]]\n",
      "Ранг матрицы: 2\n"
     ]
    }
   ],
   "source": [
    "A = np.array([[2, -4, 6], [1, -2, 3], [3, -6, 9]])\n",
    "r = np.linalg.matrix_rank(A)\n",
    "\n",
    "print(f'Матрица:\\n{A}')\n",
    "print(f'Ранг матрицы: {r}')\n",
    "\n",
    "A_ = np.array([[2, -4, 6, 1], [1, -2, 3, -2], [3, -6, 9, 5]])\n",
    "r = np.linalg.matrix_rank(A_)\n",
    "\n",
    "print(f'Матрица:\\n{A_}')\n",
    "print(f'Ранг матрицы: {r}')"
   ]
  },
  {
   "cell_type": "markdown",
   "metadata": {},
   "source": [
    "б) По теореме Кронекера-Капелли, т.к. $rankA<rank \\tilde A$, система несовместна."
   ]
  },
  {
   "cell_type": "code",
   "execution_count": 10,
   "metadata": {},
   "outputs": [
    {
     "name": "stdout",
     "output_type": "stream",
     "text": [
      "Матрица:\n",
      "[[ 1  2  5]\n",
      " [ 3  1 -8]]\n",
      "Ранг матрицы: 2\n",
      "Матрица:\n",
      "[[ 1  2  5  4]\n",
      " [ 3  1 -8 -2]]\n",
      "Ранг матрицы: 2\n"
     ]
    }
   ],
   "source": [
    "A = np.array([[1, 2, 5], [3, 1, -8]])\n",
    "r = np.linalg.matrix_rank(A)\n",
    "\n",
    "print(f'Матрица:\\n{A}')\n",
    "print(f'Ранг матрицы: {r}')\n",
    "\n",
    "A_ = np.array([[1, 2, 5, 4], [3, 1, -8, -2]])\n",
    "r = np.linalg.matrix_rank(A_)\n",
    "\n",
    "print(f'Матрица:\\n{A_}')\n",
    "print(f'Ранг матрицы: {r}')"
   ]
  },
  {
   "cell_type": "markdown",
   "metadata": {},
   "source": [
    "в) По теореме Кронекера-Капелли, т.к. $rankA=rank \\tilde A=2<3$ и $n=3$ — число неизвестных, система совместна и имеет бесконечное количество решений."
   ]
  },
  {
   "cell_type": "markdown",
   "metadata": {},
   "source": [
    "__3.__ Проверить на совместность и выяснить, сколько решений будет иметь система линейных уравнений, заданная расширенной матрицей\n",
    "\n",
    "$$\\tilde{A}=\\begin{pmatrix}\n",
    "\\left.\\begin{matrix}\n",
    "1 & 3 & -2 & 4\\\\ \n",
    "0 & 5 & 0 & 1\\\\ \n",
    "0 & 0 & 3 & 0\\\\ \n",
    "0 & 0 & 0 & 2\n",
    "\\end{matrix}\\right|\n",
    "\\begin{matrix}\n",
    "3\\\\ \n",
    "2\\\\\n",
    "4\\\\\n",
    "1\n",
    "\\end{matrix}\n",
    "\\end{pmatrix}.$$"
   ]
  },
  {
   "cell_type": "code",
   "execution_count": 11,
   "metadata": {},
   "outputs": [
    {
     "name": "stdout",
     "output_type": "stream",
     "text": [
      "Матрица:\n",
      "[[ 1  3 -2  4]\n",
      " [ 0  5  0  1]\n",
      " [ 0  0  3  0]\n",
      " [ 0  0  0  2]]\n",
      "Ранг матрицы: 4\n",
      "Матрица:\n",
      "[[ 1  3 -2  4  3]\n",
      " [ 0  5  0  1  2]\n",
      " [ 0  0  3  0  4]\n",
      " [ 0  0  0  2  1]]\n",
      "Ранг матрицы: 4\n"
     ]
    }
   ],
   "source": [
    "A = np.array([[1, 3, -2, 4], [0, 5, 0, 1], [0, 0, 3, 0], [0, 0, 0, 2]])\n",
    "r = np.linalg.matrix_rank(A)\n",
    "\n",
    "print(f'Матрица:\\n{A}')\n",
    "print(f'Ранг матрицы: {r}')\n",
    "\n",
    "A_ = np.array([[1, 3, -2, 4, 3], [0, 5, 0, 1, 2], [0, 0, 3, 0, 4], [0, 0, 0, 2, 1]])\n",
    "r = np.linalg.matrix_rank(A_)\n",
    "\n",
    "print(f'Матрица:\\n{A_}')\n",
    "print(f'Ранг матрицы: {r}')"
   ]
  },
  {
   "cell_type": "markdown",
   "metadata": {},
   "source": [
    "По теореме Кронекера-Капелли, т.к. $rankA=rank \\tilde A=4$ и $n=4$ — число неизвестных, система совместна и имеет единственное решение."
   ]
  },
  {
   "cell_type": "markdown",
   "metadata": {},
   "source": [
    "__4.__ Дана система линейных уравнений, заданная расширенной матрицей\n",
    "\n",
    "$$\\tilde{A}=\\begin{pmatrix}\n",
    "\\left.\\begin{matrix}\n",
    "1 & 2 & 3\\\\ \n",
    "4 & 5 & 6\\\\ \n",
    "7 & 8 & 9\n",
    "\\end{matrix}\\right|\n",
    "\\begin{matrix}\n",
    "a\\\\ \n",
    "b\\\\\n",
    "c\n",
    "\\end{matrix}\n",
    "\\end{pmatrix}.$$\n",
    "\n",
    "Найти соотношение между параметрами $a$, $b$ и $c$, при которых система является несовместной."
   ]
  },
  {
   "cell_type": "code",
   "execution_count": 12,
   "metadata": {},
   "outputs": [
    {
     "name": "stdout",
     "output_type": "stream",
     "text": [
      "Матрица:\n",
      "[[1 2 3]\n",
      " [4 5 6]\n",
      " [7 8 9]]\n",
      "Ранг матрицы: 2\n"
     ]
    }
   ],
   "source": [
    "A = np.array([[1, 2, 3], [4, 5, 6], [7, 8, 9]])\n",
    "r = np.linalg.matrix_rank(A)\n",
    "\n",
    "print(f'Матрица:\\n{A}')\n",
    "print(f'Ранг матрицы: {r}')"
   ]
  },
  {
   "cell_type": "markdown",
   "metadata": {},
   "source": [
    "По теореме Кронекера-Капелли система будет совместной тогда и только тогда когда $rankA=rank \\tilde A$.\n",
    "\n",
    "Так как $rankA=2<3$, одна из строк (или столбцов) матрицы $A$ является линейно зависимой. Заметим, что третья строка представляет собой линейную комбинацию первой и второй строк, а именно:\n",
    "\n",
    "$$(3) = 2\\cdot(2)-(1)$$\n",
    "\n",
    "Для того чтобы ранг расширенной матрицы оставался равным $2$, нужно чтобы последний элемент $c$ тоже был соответствующей линейной комбинацией $a$ и $b$.\n",
    "\n",
    "То есть система совместна тогда и только тогда когда $c = 2b-a$.\n",
    "\n",
    "Соответственно, система несовместна когда $c \\ne 2b-a$."
   ]
  },
  {
   "cell_type": "code",
   "execution_count": 14,
   "metadata": {},
   "outputs": [
    {
     "name": "stdout",
     "output_type": "stream",
     "text": [
      "Матрица:\n",
      "[[1 2 3 1]\n",
      " [4 5 6 3]\n",
      " [7 8 9 5]]\n",
      "Ранг матрицы: 2\n",
      "Матрица:\n",
      "[[1 2 3 0]\n",
      " [4 5 6 7]\n",
      " [7 8 9 3]]\n",
      "Ранг матрицы: 3\n"
     ]
    }
   ],
   "source": [
    "A_= np.array([[1, 2, 3, 1], [4, 5, 6, 3], [7, 8, 9, 5]])\n",
    "r = np.linalg.matrix_rank(A_)\n",
    "\n",
    "print(f'Матрица:\\n{A_}')\n",
    "print(f'Ранг матрицы: {r}')\n",
    "\n",
    "A_= np.array([[1, 2, 3, 0], [4, 5, 6, 7], [7, 8, 9, 3]])\n",
    "r = np.linalg.matrix_rank(A_)\n",
    "\n",
    "print(f'Матрица:\\n{A_}')\n",
    "print(f'Ранг матрицы: {r}')"
   ]
  },
  {
   "cell_type": "code",
   "execution_count": null,
   "metadata": {},
   "outputs": [],
   "source": []
  }
 ],
 "metadata": {
  "kernelspec": {
   "display_name": "Python 3",
   "language": "python",
   "name": "python3"
  },
  "language_info": {
   "codemirror_mode": {
    "name": "ipython",
    "version": 3
   },
   "file_extension": ".py",
   "mimetype": "text/x-python",
   "name": "python",
   "nbconvert_exporter": "python",
   "pygments_lexer": "ipython3",
   "version": "3.8.5"
  }
 },
 "nbformat": 4,
 "nbformat_minor": 4
}
